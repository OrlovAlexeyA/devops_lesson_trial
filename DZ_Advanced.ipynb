{
  "nbformat": 4,
  "nbformat_minor": 0,
  "metadata": {
    "colab": {
      "provenance": [],
      "collapsed_sections": [],
      "include_colab_link": true
    },
    "kernelspec": {
      "name": "python3",
      "display_name": "Python 3"
    },
    "language_info": {
      "name": "python"
    }
  },
  "cells": [
    {
      "cell_type": "markdown",
      "metadata": {
        "id": "view-in-github",
        "colab_type": "text"
      },
      "source": [
        "<a href=\"https://colab.research.google.com/github/OrlovAlexeyA/devops_lesson_trial/blob/main/DZ_Advanced.ipynb\" target=\"_parent\"><img src=\"https://colab.research.google.com/assets/colab-badge.svg\" alt=\"Open In Colab\"/></a>"
      ]
    },
    {
      "cell_type": "code",
      "execution_count": 3,
      "metadata": {
        "id": "MXXTuy_o0sjk",
        "colab": {
          "base_uri": "https://localhost:8080/"
        },
        "outputId": "a7b3ac7a-75df-4d67-b00e-ccb11128745f"
      },
      "outputs": [
        {
          "output_type": "stream",
          "name": "stdout",
          "text": [
            "\u001b[K     |████████████████████████████████| 1.9 MB 2.1 MB/s \n",
            "\u001b[K     |████████████████████████████████| 62 kB 1.1 MB/s \n",
            "\u001b[?25h"
          ]
        }
      ],
      "source": [
        "!pip install -q -U kaggle_environments"
      ]
    },
    {
      "cell_type": "code",
      "source": [
        "import numpy as np\n",
        "import pandas as pd\n",
        "import random\n",
        "\n",
        "import matplotlib.pyplot as plt\n",
        "import seaborn as sns\n",
        "\n",
        "from kaggle_environments import make, evaluate"
      ],
      "metadata": {
        "id": "yz23vWHD0wcj"
      },
      "execution_count": 4,
      "outputs": []
    },
    {
      "cell_type": "markdown",
      "source": [
        "№1 Агент играющий всегда \"Камень\":"
      ],
      "metadata": {
        "id": "0kuo6IOxiRub"
      }
    },
    {
      "cell_type": "code",
      "source": [
        "%%writefile rock.py\n",
        "\n",
        "def rock(observation, configuration):\n",
        "    return 0"
      ],
      "metadata": {
        "id": "bqTqV7B92rJ6",
        "colab": {
          "base_uri": "https://localhost:8080/"
        },
        "outputId": "f7bb7263-6dab-46e8-d869-5508ca4346f6"
      },
      "execution_count": 41,
      "outputs": [
        {
          "output_type": "stream",
          "name": "stdout",
          "text": [
            "Overwriting rock.py\n"
          ]
        }
      ]
    },
    {
      "cell_type": "markdown",
      "source": [
        "№2 Агент \"Бумага\":"
      ],
      "metadata": {
        "id": "DVSpqNmi9mdR"
      }
    },
    {
      "cell_type": "code",
      "source": [
        "%%writefile paper.py\n",
        "\n",
        "def your_agenscissors(observation, configuration):\n",
        "    return 1"
      ],
      "metadata": {
        "colab": {
          "base_uri": "https://localhost:8080/"
        },
        "id": "yXiSyFZB9tR3",
        "outputId": "4fddfa2c-94f9-486f-f580-02ce51c3777f"
      },
      "execution_count": 88,
      "outputs": [
        {
          "output_type": "stream",
          "name": "stdout",
          "text": [
            "Overwriting paper.py\n"
          ]
        }
      ]
    },
    {
      "cell_type": "markdown",
      "source": [
        "№3 Агент \"Ножницы\":"
      ],
      "metadata": {
        "id": "Z-J21qWg-EHi"
      }
    },
    {
      "cell_type": "code",
      "source": [
        "%%writefile scissors.py\n",
        "\n",
        "def scissors(observation, configuration):\n",
        "    return 2"
      ],
      "metadata": {
        "colab": {
          "base_uri": "https://localhost:8080/"
        },
        "id": "fQUAroH6-IiR",
        "outputId": "c104a188-6d43-475a-b9c4-ef8c47d3ecd2"
      },
      "execution_count": 86,
      "outputs": [
        {
          "output_type": "stream",
          "name": "stdout",
          "text": [
            "Overwriting scissors.py\n"
          ]
        }
      ]
    },
    {
      "cell_type": "markdown",
      "source": [
        "№4 Агент играющий Камень или Бумага, выбирая случайный вариант из них:"
      ],
      "metadata": {
        "id": "6ymyeA3UD92f"
      }
    },
    {
      "cell_type": "code",
      "source": [
        "%%writefile rock_paper.py\n",
        "\n",
        "def rock_paper(observation, configuration):\n",
        "  import random\n",
        "  return random.choice([0,1])"
      ],
      "metadata": {
        "colab": {
          "base_uri": "https://localhost:8080/"
        },
        "id": "J0MyQX1pEF9m",
        "outputId": "229a7716-01f6-4aa7-df07-c79d5c28ee1c"
      },
      "execution_count": 10,
      "outputs": [
        {
          "output_type": "stream",
          "name": "stdout",
          "text": [
            "Writing rock_paper.py\n"
          ]
        }
      ]
    },
    {
      "cell_type": "markdown",
      "source": [
        "№5 Агент играющий Камень или Ножницы, выбирая случайный вариант из них:"
      ],
      "metadata": {
        "id": "8uIV67SNFk5c"
      }
    },
    {
      "cell_type": "code",
      "source": [
        "%%writefile rock_scissors.py\n",
        "\n",
        "def rock_scissors(observation, configuration):\n",
        "  import random\n",
        "  return random.choice([0,2])"
      ],
      "metadata": {
        "colab": {
          "base_uri": "https://localhost:8080/"
        },
        "id": "Vf0sXMqYF5gx",
        "outputId": "e88c0390-0db0-4e4f-faa8-32cf07f3e6d7"
      },
      "execution_count": 17,
      "outputs": [
        {
          "output_type": "stream",
          "name": "stdout",
          "text": [
            "Writing rock_scissors.py\n"
          ]
        }
      ]
    },
    {
      "cell_type": "markdown",
      "source": [
        "№6 Агент играющий Бумага или Ножницы, выбирая случайный вариант из них:"
      ],
      "metadata": {
        "id": "RkS0cDDqGN0c"
      }
    },
    {
      "cell_type": "code",
      "source": [
        "%%writefile paper_scissors.py\n",
        "\n",
        "def paper_scissors(observation, configuration):\n",
        "  import random\n",
        "  return random.choice([1,2])"
      ],
      "metadata": {
        "colab": {
          "base_uri": "https://localhost:8080/"
        },
        "id": "g5z_XUEUGYap",
        "outputId": "8cd718b7-8be8-4290-e520-8f36c65642a3"
      },
      "execution_count": 40,
      "outputs": [
        {
          "output_type": "stream",
          "name": "stdout",
          "text": [
            "Overwriting paper_scissors.py\n"
          ]
        }
      ]
    },
    {
      "cell_type": "markdown",
      "source": [
        "№7 Агент, играющий Камень или Бумага или Ножницы, выбирая случайный вариант их них:"
      ],
      "metadata": {
        "id": "dBz2Lk0KKgWC"
      }
    },
    {
      "cell_type": "code",
      "source": [
        "%%writefile clear_random.py\n",
        "\n",
        "def clear_random(observation, configuration):\n",
        "  import random\n",
        "  answer = random.choice([0,1,2])\n",
        "  return answer"
      ],
      "metadata": {
        "colab": {
          "base_uri": "https://localhost:8080/"
        },
        "id": "b3btbtEtG1Rx",
        "outputId": "f3a087b1-c918-4ace-8654-bf962a5f0c03"
      },
      "execution_count": 24,
      "outputs": [
        {
          "output_type": "stream",
          "name": "stdout",
          "text": [
            "Overwriting clear_random.py\n"
          ]
        }
      ]
    },
    {
      "cell_type": "markdown",
      "source": [
        "№ 8 Агент, отвечающий не так как последний раз ответил оппонент и выбирающий случайный вариант из двух остальных:"
      ],
      "metadata": {
        "id": "et1J5hUGigeh"
      }
    },
    {
      "cell_type": "code",
      "source": [
        "%%writefile non_opponent.py\n",
        "\n",
        "\n",
        "def non_opponent(observation, configuration):\n",
        "    import random\n",
        "    lst = [0,1,2]\n",
        "    if observation.step > 0:\n",
        "      lst.remove(observation.lastOpponentAction)\n",
        "      return random.choice(lst)\n",
        "    else:\n",
        "        return random.choice(lst)"
      ],
      "metadata": {
        "id": "7l6Ttw6qi0jk",
        "colab": {
          "base_uri": "https://localhost:8080/"
        },
        "outputId": "11f8caa7-373e-4386-fae2-57a01998b187"
      },
      "execution_count": 63,
      "outputs": [
        {
          "output_type": "stream",
          "name": "stdout",
          "text": [
            "Overwriting non_opponent.py\n"
          ]
        }
      ]
    },
    {
      "cell_type": "markdown",
      "source": [
        "№9 Агент, выбирающий вариант, побеждающий последний ответ оппонента"
      ],
      "metadata": {
        "id": "xtDCURYnPEyE"
      }
    },
    {
      "cell_type": "code",
      "source": [
        "%%writefile win_last_opponent.py\n",
        "\n",
        "\n",
        "def win_last_opponent(observation, configuration):\n",
        "    import random\n",
        "    if observation.step > 0:\n",
        "        if observation.lastOpponentAction == 0:\n",
        "            return 1\n",
        "        if observation.lastOpponentAction == 1:\n",
        "           return 2\n",
        "        if observation.lastOpponentAction == 2:\n",
        "            return 0\n",
        "    else:\n",
        "       return random.choice([0,1,2])"
      ],
      "metadata": {
        "colab": {
          "base_uri": "https://localhost:8080/"
        },
        "id": "wBZFfnsBSB4o",
        "outputId": "740bec73-8447-4894-9e5f-4b7e648c1e5f"
      },
      "execution_count": 81,
      "outputs": [
        {
          "output_type": "stream",
          "name": "stdout",
          "text": [
            "Overwriting win_last_opponent.py\n"
          ]
        }
      ]
    },
    {
      "cell_type": "markdown",
      "source": [
        "Напишем функцию для тестированя игры двух ботов. 100 игр, 5 раундов."
      ],
      "metadata": {
        "id": "C85sk5XcgVQj"
      }
    },
    {
      "cell_type": "code",
      "source": [
        "evaluate(\n",
        "    \"rps\", \n",
        "    [\"clear_random.py\", \"win_last_opponent.py\"], \n",
        "    configuration={\"episodeSteps\": 101, \"tieRewardThreshold\":1}, num_episodes = 5\n",
        ")"
      ],
      "metadata": {
        "colab": {
          "base_uri": "https://localhost:8080/"
        },
        "id": "hEvwACIsghoB",
        "outputId": "22c475b4-d998-48bb-d751-ab384f415c84"
      },
      "execution_count": 103,
      "outputs": [
        {
          "output_type": "execute_result",
          "data": {
            "text/plain": [
              "[[-19.0, 19.0], [-1.0, 1.0], [8.0, -8.0], [-6.0, 6.0], [-1.0, 1.0]]"
            ]
          },
          "metadata": {},
          "execution_count": 103
        }
      ]
    },
    {
      "cell_type": "markdown",
      "source": [
        "Для автоматизации проведения турнира сделаем список всех Агентов:"
      ],
      "metadata": {
        "id": "ExgIpXUVjbjN"
      }
    },
    {
      "cell_type": "code",
      "source": [
        "agents = ['rock.py', \n",
        "          'paper.py',\n",
        "          'scissors.py',\n",
        "          'rock_paper.py',\n",
        "          'rock_scissors.py',\n",
        "          'paper_scissors.py',\n",
        "          'clear_random.py',\n",
        "          'non_opponent.py',\n",
        "          'win_last_opponent.py']          "
      ],
      "metadata": {
        "id": "UYjbQlJOXkzi"
      },
      "execution_count": 92,
      "outputs": []
    },
    {
      "cell_type": "markdown",
      "source": [
        "Через цикл запустим игру. Каждый агент должен сыграть с каждым оставшимся. Играть будем по 500 игр, 5 раундов чтобы уменьшить влияние отклонения. \n",
        "\n",
        "Также создадим список с итоговым результатом для каждого агента. Итоговый рузультат это: \"сумма всех побед минус сумма всех поражений\". \n",
        "\n",
        "Далее у кого больше побед, то и лучший СРЕДИ ДАННОГО СПИСКА АГЕНТОВ НА ДАННОМ РОЗЫГРЫШЕ."
      ],
      "metadata": {
        "id": "c323SZfFhCRw"
      }
    },
    {
      "cell_type": "code",
      "source": [
        "print(\"Проверка ботов:\")\n",
        "#создадим список результирующих очков\n",
        "scores = [0 for x in range(9)]\n",
        "# число раундов\n",
        "round = 5\n",
        "for x in range(len(agents)):\n",
        "  for y in range(x+1, len(agents)):\n",
        "    result = evaluate(\n",
        "    \"rps\", \n",
        "    [agents[x], agents[y]], \n",
        "    configuration={\"episodeSteps\": 500, \"tieRewardThreshold\":1}, num_episodes = round)\n",
        "    # будем вносить все полученные очки в список scores\n",
        "    for  z in range(round):\n",
        "      scores[agents.index(agents[x])] += result[z][0]\n",
        "      scores[agents.index(agents[y])] += result[z][1]\n",
        "      \n",
        "    print(result,\" \", agents[x],\"vs\", agents[y]) \n",
        "# выведем результирующий список суммарных очков\n",
        "print(\"Итоговые результаты: \", scores)\n",
        "print (\"Победитель: \", agents[scores.index(max(scores))], \" с \", max(scores))"
      ],
      "metadata": {
        "colab": {
          "base_uri": "https://localhost:8080/"
        },
        "id": "DDqBaIIsZUlJ",
        "outputId": "00cfed2d-c53e-4b1d-a6f5-3c4027055107"
      },
      "execution_count": 120,
      "outputs": [
        {
          "output_type": "stream",
          "name": "stdout",
          "text": [
            "Проверка ботов:\n",
            "[[-499.0, 499.0], [-499.0, 499.0], [-499.0, 499.0], [-499.0, 499.0], [-499.0, 499.0]]   rock.py vs paper.py\n",
            "[[499.0, -499.0], [499.0, -499.0], [499.0, -499.0], [499.0, -499.0], [499.0, -499.0]]   rock.py vs scissors.py\n",
            "[[-264.0, 264.0], [-275.0, 275.0], [-236.0, 236.0], [-248.0, 248.0], [-256.0, 256.0]]   rock.py vs rock_paper.py\n",
            "[[260.0, -260.0], [237.0, -237.0], [256.0, -256.0], [251.0, -251.0], [256.0, -256.0]]   rock.py vs rock_scissors.py\n",
            "[[-7.0, 7.0], [39.0, -39.0], [-7.0, 7.0], [3.0, -3.0], [-1.0, 1.0]]   rock.py vs paper_scissors.py\n",
            "[[-38.0, 38.0], [16.0, -16.0], [-27.0, 27.0], [28.0, -28.0], [-2.0, 2.0]]   rock.py vs clear_random.py\n",
            "[[-21.0, 21.0], [76.0, -76.0], [-23.0, 23.0], [13.0, -13.0], [-19.0, 19.0]]   rock.py vs non_opponent.py\n",
            "[[-498.0, 498.0], [-499.0, 499.0], [-499.0, 499.0], [-498.0, 498.0], [-498.0, 498.0]]   rock.py vs win_last_opponent.py\n",
            "[[-499.0, 499.0], [-499.0, 499.0], [-499.0, 499.0], [-499.0, 499.0], [-499.0, 499.0]]   paper.py vs scissors.py\n",
            "[[260.0, -260.0], [247.0, -247.0], [252.0, -252.0], [263.0, -263.0], [260.0, -260.0]]   paper.py vs rock_paper.py\n",
            "[[9.0, -9.0], [5.0, -5.0], [5.0, -5.0], [-39.0, 39.0], [-11.0, 11.0]]   paper.py vs rock_scissors.py\n",
            "[[-235.0, 235.0], [-256.0, 256.0], [-279.0, 279.0], [-253.0, 253.0], [-260.0, 260.0]]   paper.py vs paper_scissors.py\n",
            "[[7.0, -7.0], [11.0, -11.0], [7.0, -7.0], [2.0, -2.0], [-6.0, 6.0]]   paper.py vs clear_random.py\n",
            "[[3.0, -3.0], [3.0, -3.0], [39.0, -39.0], [-35.0, 35.0], [42.0, -42.0]]   paper.py vs non_opponent.py\n",
            "[[-499.0, 499.0], [-498.0, 498.0], [-497.0, 497.0], [-499.0, 499.0], [-498.0, 498.0]]   paper.py vs win_last_opponent.py\n",
            "[[-3.0, 3.0], [11.0, -11.0], [11.0, -11.0], [-1.0, 1.0], [-17.0, 17.0]]   scissors.py vs rock_paper.py\n",
            "[[-225.0, 225.0], [-261.0, 261.0], [-245.0, 245.0], [-237.0, 237.0], [-243.0, 243.0]]   scissors.py vs rock_scissors.py\n",
            "[[257.0, -257.0], [253.0, -253.0], [235.0, -235.0], [234.0, -234.0], [252.0, -252.0]]   scissors.py vs paper_scissors.py\n",
            "[[12.0, -12.0], [10.0, -10.0], [7.0, -7.0], [3.0, -3.0], [-1.0, 1.0]]   scissors.py vs clear_random.py\n",
            "[[27.0, -27.0], [-25.0, 25.0], [5.0, -5.0], [-31.0, 31.0], [-23.0, 23.0]]   scissors.py vs non_opponent.py\n",
            "[[-497.0, 497.0], [-497.0, 497.0], [-499.0, 499.0], [-498.0, 498.0], [-499.0, 499.0]]   scissors.py vs win_last_opponent.py\n",
            "[[129.0, -129.0], [114.0, -114.0], [78.0, -78.0], [106.0, -106.0], [127.0, -127.0]]   rock_paper.py vs rock_scissors.py\n",
            "[[-140.0, 140.0], [-142.0, 142.0], [-130.0, 130.0], [-146.0, 146.0], [-135.0, 135.0]]   rock_paper.py vs paper_scissors.py\n",
            "[[0, 0], [22.0, -22.0], [1.0, -1.0], [10.0, -10.0], [-9.0, 9.0]]   rock_paper.py vs clear_random.py\n",
            "[[28.0, -28.0], [6.0, -6.0], [-27.0, 27.0], [14.0, -14.0], [-7.0, 7.0]]   rock_paper.py vs non_opponent.py\n",
            "[[-123.0, 123.0], [-84.0, 84.0], [-117.0, 117.0], [-135.0, 135.0], [-119.0, 119.0]]   rock_paper.py vs win_last_opponent.py\n",
            "[[99.0, -99.0], [133.0, -133.0], [118.0, -118.0], [125.0, -125.0], [146.0, -146.0]]   rock_scissors.py vs paper_scissors.py\n",
            "[[3.0, -3.0], [-8.0, 8.0], [19.0, -19.0], [31.0, -31.0], [7.0, -7.0]]   rock_scissors.py vs clear_random.py\n",
            "[[-5.0, 5.0], [-16.0, 16.0], [12.0, -12.0], [2.0, -2.0], [-36.0, 36.0]]   rock_scissors.py vs non_opponent.py\n",
            "[[-127.0, 127.0], [-113.0, 113.0], [-160.0, 160.0], [-137.0, 137.0], [-113.0, 113.0]]   rock_scissors.py vs win_last_opponent.py\n",
            "[[15.0, -15.0], [25.0, -25.0], [-6.0, 6.0], [-7.0, 7.0], [-11.0, 11.0]]   paper_scissors.py vs clear_random.py\n",
            "[[-18.0, 18.0], [-3.0, 3.0], [-1.0, 1.0], [2.0, -2.0], [-15.0, 15.0]]   paper_scissors.py vs non_opponent.py\n",
            "[[-145.0, 145.0], [-127.0, 127.0], [-146.0, 146.0], [-152.0, 152.0], [-134.0, 134.0]]   paper_scissors.py vs win_last_opponent.py\n",
            "[[-19.0, 19.0], [20.0, -20.0], [-11.0, 11.0], [8.0, -8.0], [12.0, -12.0]]   clear_random.py vs non_opponent.py\n",
            "[[-1.0, 1.0], [3.0, -3.0], [7.0, -7.0], [13.0, -13.0], [-12.0, 12.0]]   clear_random.py vs win_last_opponent.py\n",
            "[[19.0, -19.0], [-3.0, 3.0], [-4.0, 4.0], [7.0, -7.0], [-33.0, 33.0]]   non_opponent.py vs win_last_opponent.py\n",
            "Итоговые результаты:  [-2481.0, -2450.0, -2485.0, -683.0, -592.0, -626.0, -101.0, 9.0, 9409.0]\n",
            "Победитель:  win_last_opponent.py  с  9409.0\n"
          ]
        }
      ]
    },
    {
      "cell_type": "markdown",
      "source": [
        "Уверенно побеждает Агент №9, отвечающий победой на последний ответ оппонента. Видимо это происходит из за того, что играет большое количество \"статичных\" агентов, у которых он всё время выигрывает и быстро набирает положительную статистику."
      ],
      "metadata": {
        "id": "uhn50kvZxHXA"
      }
    }
  ]
}